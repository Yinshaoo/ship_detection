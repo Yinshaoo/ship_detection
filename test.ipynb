{
 "cells": [
  {
   "cell_type": "code",
   "execution_count": 2,
   "id": "3d1c2865",
   "metadata": {},
   "outputs": [
    {
     "ename": "AssertionError",
     "evalue": "MMCV==2.1.0 is used but incompatible. Please install mmcv>=2.0.0rc4, <2.1.0.",
     "output_type": "error",
     "traceback": [
      "\u001b[0;31m---------------------------------------------------------------------------\u001b[0m",
      "\u001b[0;31mAssertionError\u001b[0m                            Traceback (most recent call last)",
      "Cell \u001b[0;32mIn[2], line 2\u001b[0m\n\u001b[1;32m      1\u001b[0m \u001b[38;5;28;01mfrom\u001b[39;00m \u001b[38;5;21;01mmmengine\u001b[39;00m \u001b[38;5;28;01mimport\u001b[39;00m Registry\n\u001b[0;32m----> 2\u001b[0m \u001b[38;5;28;01mfrom\u001b[39;00m \u001b[38;5;21;01mmmdet\u001b[39;00m\u001b[38;5;21;01m.\u001b[39;00m\u001b[38;5;21;01mmodels\u001b[39;00m\u001b[38;5;21;01m.\u001b[39;00m\u001b[38;5;21;01mdetectors\u001b[39;00m\u001b[38;5;21;01m.\u001b[39;00m\u001b[38;5;21;01mrtdetr\u001b[39;00m \u001b[38;5;28;01mimport\u001b[39;00m RTDETR\n\u001b[1;32m      3\u001b[0m \u001b[38;5;28;01mimport\u001b[39;00m \u001b[38;5;21;01mmmdet\u001b[39;00m\n\u001b[1;32m      5\u001b[0m \u001b[38;5;66;03m# 注册模型\u001b[39;00m\n",
      "File \u001b[0;32m~/autodl-tmp/mmdetection-rtdetr/mmdet/__init__.py:16\u001b[0m\n\u001b[1;32m     13\u001b[0m mmengine_maximum_version \u001b[38;5;241m=\u001b[39m \u001b[38;5;124m'\u001b[39m\u001b[38;5;124m1.0.0\u001b[39m\u001b[38;5;124m'\u001b[39m\n\u001b[1;32m     14\u001b[0m mmengine_version \u001b[38;5;241m=\u001b[39m digit_version(mmengine\u001b[38;5;241m.\u001b[39m__version__)\n\u001b[0;32m---> 16\u001b[0m \u001b[38;5;28;01massert\u001b[39;00m (mmcv_version \u001b[38;5;241m>\u001b[39m\u001b[38;5;241m=\u001b[39m digit_version(mmcv_minimum_version)\n\u001b[1;32m     17\u001b[0m         \u001b[38;5;129;01mand\u001b[39;00m mmcv_version \u001b[38;5;241m<\u001b[39m digit_version(mmcv_maximum_version)), \\\n\u001b[1;32m     18\u001b[0m     \u001b[38;5;124mf\u001b[39m\u001b[38;5;124m'\u001b[39m\u001b[38;5;124mMMCV==\u001b[39m\u001b[38;5;132;01m{\u001b[39;00mmmcv\u001b[38;5;241m.\u001b[39m__version__\u001b[38;5;132;01m}\u001b[39;00m\u001b[38;5;124m is used but incompatible. \u001b[39m\u001b[38;5;124m'\u001b[39m \\\n\u001b[1;32m     19\u001b[0m     \u001b[38;5;124mf\u001b[39m\u001b[38;5;124m'\u001b[39m\u001b[38;5;124mPlease install mmcv>=\u001b[39m\u001b[38;5;132;01m{\u001b[39;00mmmcv_minimum_version\u001b[38;5;132;01m}\u001b[39;00m\u001b[38;5;124m, <\u001b[39m\u001b[38;5;132;01m{\u001b[39;00mmmcv_maximum_version\u001b[38;5;132;01m}\u001b[39;00m\u001b[38;5;124m.\u001b[39m\u001b[38;5;124m'\u001b[39m\n\u001b[1;32m     21\u001b[0m \u001b[38;5;28;01massert\u001b[39;00m (mmengine_version \u001b[38;5;241m>\u001b[39m\u001b[38;5;241m=\u001b[39m digit_version(mmengine_minimum_version)\n\u001b[1;32m     22\u001b[0m         \u001b[38;5;129;01mand\u001b[39;00m mmengine_version \u001b[38;5;241m<\u001b[39m digit_version(mmengine_maximum_version)), \\\n\u001b[1;32m     23\u001b[0m     \u001b[38;5;124mf\u001b[39m\u001b[38;5;124m'\u001b[39m\u001b[38;5;124mMMEngine==\u001b[39m\u001b[38;5;132;01m{\u001b[39;00mmmengine\u001b[38;5;241m.\u001b[39m__version__\u001b[38;5;132;01m}\u001b[39;00m\u001b[38;5;124m is used but incompatible. \u001b[39m\u001b[38;5;124m'\u001b[39m \\\n\u001b[1;32m     24\u001b[0m     \u001b[38;5;124mf\u001b[39m\u001b[38;5;124m'\u001b[39m\u001b[38;5;124mPlease install mmengine>=\u001b[39m\u001b[38;5;132;01m{\u001b[39;00mmmengine_minimum_version\u001b[38;5;132;01m}\u001b[39;00m\u001b[38;5;124m, \u001b[39m\u001b[38;5;124m'\u001b[39m \\\n\u001b[1;32m     25\u001b[0m     \u001b[38;5;124mf\u001b[39m\u001b[38;5;124m'\u001b[39m\u001b[38;5;124m<\u001b[39m\u001b[38;5;132;01m{\u001b[39;00mmmengine_maximum_version\u001b[38;5;132;01m}\u001b[39;00m\u001b[38;5;124m.\u001b[39m\u001b[38;5;124m'\u001b[39m\n\u001b[1;32m     27\u001b[0m __all__ \u001b[38;5;241m=\u001b[39m [\u001b[38;5;124m'\u001b[39m\u001b[38;5;124m__version__\u001b[39m\u001b[38;5;124m'\u001b[39m, \u001b[38;5;124m'\u001b[39m\u001b[38;5;124mversion_info\u001b[39m\u001b[38;5;124m'\u001b[39m, \u001b[38;5;124m'\u001b[39m\u001b[38;5;124mdigit_version\u001b[39m\u001b[38;5;124m'\u001b[39m]\n",
      "\u001b[0;31mAssertionError\u001b[0m: MMCV==2.1.0 is used but incompatible. Please install mmcv>=2.0.0rc4, <2.1.0."
     ]
    }
   ],
   "source": [
    "from mmengine import Registry\n",
    "from mmdet.models.detectors.rtdetr import RTDETR\n",
    "import mmdet\n",
    "\n",
    "# 注册模型\n",
    "mmdet.MODEL = Registry('model', parent=Registry.ROOT)\n",
    "mmdet.MODEL.register_module(module=RTDETR)"
   ]
  }
 ],
 "metadata": {
  "kernelspec": {
   "display_name": "openmmlab",
   "language": "python",
   "name": "python3"
  },
  "language_info": {
   "codemirror_mode": {
    "name": "ipython",
    "version": 3
   },
   "file_extension": ".py",
   "mimetype": "text/x-python",
   "name": "python",
   "nbconvert_exporter": "python",
   "pygments_lexer": "ipython3",
   "version": "3.8.20"
  }
 },
 "nbformat": 4,
 "nbformat_minor": 5
}
